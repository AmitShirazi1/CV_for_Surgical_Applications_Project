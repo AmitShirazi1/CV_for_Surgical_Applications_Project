{
 "cells": [
  {
   "cell_type": "code",
   "execution_count": null,
   "metadata": {},
   "outputs": [],
   "source": [
    "import h5py\n",
    "import matplotlib.pyplot as plt\n",
    "import os\n",
    "import numpy as np\n",
    "\n",
    "images_dir = \"./output/hdri_background/hdf5_format/\""
   ]
  },
  {
   "cell_type": "code",
   "execution_count": null,
   "metadata": {},
   "outputs": [],
   "source": [
    "\"\"\" Option 1 - Shapes of the output \"\"\"\n",
    "\n",
    "for i in range(len(os.listdir(images_dir))):\n",
    "    image = str(i) + \".hdf5\"\n",
    "    print(\"-\"*5, image, \"-\"*5)\n",
    "    image_dir = images_dir + image\n",
    "    with h5py.File(image_dir, 'r') as file:\n",
    "        def print_structure(name, obj):\n",
    "            if isinstance(obj, h5py.Group):\n",
    "                print(f\"Group: {name}\")\n",
    "            elif isinstance(obj, h5py.Dataset):\n",
    "                print(f\"Dataset: {name} - shape: {obj.shape}, dtype: {obj.dtype}\")\n",
    "\n",
    "        # Traverse and print the structure\n",
    "        file.visititems(print_structure)\n",
    "    print(\"\\n\")"
   ]
  },
  {
   "cell_type": "code",
   "execution_count": null,
   "metadata": {},
   "outputs": [],
   "source": [
    "\"\"\" Option 2 - Looking at the contents of the output \"\"\"\n",
    "\n",
    "for i in range(len(os.listdir(images_dir))):\n",
    "    image = str(i) + \".hdf5\"\n",
    "    print(\"-\"*5, image, \"-\"*5)\n",
    "    image_dir = images_dir + image\n",
    "    with h5py.File(image_dir, 'r') as file:\n",
    "        # View the blender_proc_version\n",
    "        version = file['blender_proc_version'][()]\n",
    "        print(\"BlenderProc Version:\", version.decode('utf-8'))\n",
    "\n",
    "        # View a small section of the colors dataset\n",
    "        colors = file['colors'][:5, :5] # 5x5 sample\n",
    "        print(\"Colors dataset sample (5x5 pixels):\\n\", colors)\n",
    "\n",
    "        # # View a small section of the depth dataset\n",
    "        # depth = file['depth'][:5, :5]  # 5x5 sample\n",
    "        # print(\"Depth dataset sample (5x5 pixels):\\n\", depth)\n",
    "\n",
    "        # # View a small section of the normals dataset\n",
    "        # normals = file['normals'][:5, :5]\n",
    "        # print(\"Normals dataset sample (5x5 pixels):\\n\", normals)\n",
    "\n",
    "        segmaps = file['category_id_segmaps'][:5, :5]\n",
    "        print(\"Instance Segmaps sample (5x5 pixels):\\n\", segmaps)\n",
    "    \n",
    "    print(\"\\n\")"
   ]
  },
  {
   "cell_type": "code",
   "execution_count": null,
   "metadata": {},
   "outputs": [],
   "source": [
    "\"\"\" Option 3 - Plot images using matplotlib \"\"\"\n",
    "\n",
    "def plot_hdf5(file_name):\n",
    "    file_path = images_dir + file_name\n",
    "    # Load the HDF5 file\n",
    "    with h5py.File(file_path, 'r') as file:\n",
    "        colors = file['colors'][:]\n",
    "        segmaps = file['category_id_segmaps'][:]\n",
    "\n",
    "    # Plot the images side by side\n",
    "    fig, axes = plt.subplots(1, 3, figsize=(15, 5))\n",
    "    fig.suptitle(file_name)\n",
    "\n",
    "    # Display the color image\n",
    "    axes[0].imshow(colors)\n",
    "    axes[0].set_title(\"Colors\")\n",
    "    axes[0].axis(\"off\")\n",
    "\n",
    "    # Display the segmaps image\n",
    "    axes[1].imshow(segmaps)\n",
    "    axes[1].set_title(\"Category ID Segmaps\")\n",
    "    axes[1].axis(\"off\")\n",
    "\n",
    "    plt.show()\n",
    "\n",
    "\n",
    "for i in range(len(os.listdir(images_dir))):\n",
    "    image = str(i) + \".hdf5\"\n",
    "    plot_hdf5(image)"
   ]
  },
  {
   "cell_type": "code",
   "execution_count": null,
   "metadata": {},
   "outputs": [],
   "source": [
    "\"\"\" Option 4 - The real content of an hdf5 files \"\"\"\n",
    "\n",
    "%run \"-m\" \"blenderproc\" \"vis\" \"hdf5\" \"./output/hdri_background/hdf5_format/1508.hdf5\"\n"
   ]
  },
  {
   "cell_type": "code",
   "execution_count": null,
   "metadata": {},
   "outputs": [],
   "source": [
    "\"\"\" Option 5 - Save the hdf5 files as jpgs \"\"\"\n",
    "\n",
    "import matplotlib.cm as cm\n",
    "from PIL import Image\n",
    "\n",
    "jpg_format_dir = os.path.join(images_dir.split(\"hdf5\")[0], \"jpg_format\")\n",
    "\n",
    "for i in range(len(os.listdir(images_dir))):\n",
    "    # Load the HDF5 file\n",
    "    file = str(i) + \".hdf5\"\n",
    "    file_path = os.path.join(images_dir, file)\n",
    "    # Create the directory that will contain the JPEG images, and set the file paths.\n",
    "    os.makedirs(jpg_format_dir, exist_ok=True)\n",
    "    colors_dir = os.path.join(jpg_format_dir, str(i) + \"_color.jpg\")\n",
    "    segmaps_dir = os.path.join(jpg_format_dir, str(i) + \"_segmaps.jpg\")\n",
    "\n",
    "    with h5py.File(file_path, 'r') as file:\n",
    "        # Read the 'colors' dataset and save it as a JPEG image.\n",
    "        colors = file['colors'][:]\n",
    "        color_img = Image.fromarray(colors, 'RGB')\n",
    "        color_img.save(colors_dir, \"JPEG\")\n",
    "        \n",
    "        # Read the 'category_id_segmaps' dataset.\n",
    "        segmaps = file['category_id_segmaps'][:]\n",
    "        # Normalize and map the segmaps to a color range for visibility.\n",
    "        segmaps_normalized = (segmaps - segmaps.min()) / (segmaps.max() - segmaps.min())\n",
    "        segmaps_colormap = (cm.viridis(segmaps_normalized)[:, :, :3] * 255).astype(np.uint8)\n",
    "        # Save the segmaps as a JPEG image.\n",
    "        segmaps_img = Image.fromarray(segmaps_colormap)\n",
    "        segmaps_img.save(segmaps_dir, \"JPEG\")"
   ]
  }
 ],
 "metadata": {
  "kernelspec": {
   "display_name": "synth",
   "language": "python",
   "name": "python3"
  },
  "language_info": {
   "codemirror_mode": {
    "name": "ipython",
    "version": 3
   },
   "file_extension": ".py",
   "mimetype": "text/x-python",
   "name": "python",
   "nbconvert_exporter": "python",
   "pygments_lexer": "ipython3",
   "version": "3.10.13"
  }
 },
 "nbformat": 4,
 "nbformat_minor": 2
}
